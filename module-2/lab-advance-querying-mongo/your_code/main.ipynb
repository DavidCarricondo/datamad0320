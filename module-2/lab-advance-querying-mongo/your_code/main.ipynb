{
 "cells": [
  {
   "cell_type": "markdown",
   "metadata": {},
   "source": [
    "# Advanced Querying Mongo"
   ]
  },
  {
   "cell_type": "markdown",
   "metadata": {},
   "source": [
    "Importing libraries and setting up connection"
   ]
  },
  {
   "cell_type": "code",
   "execution_count": 19,
   "metadata": {},
   "outputs": [
    {
     "name": "stdout",
     "output_type": "stream",
     "text": [
      "mongodb://localhost/companies\n"
     ]
    }
   ],
   "source": [
    "from pymongo import MongoClient\n",
    "from pymongo import ASCENDING, DESCENDING\n",
    "dbName = \"companies\"\n",
    "mongodbURL = f\"mongodb://localhost/{dbName}\"\n",
    "print(mongodbURL)\n",
    "client = MongoClient(mongodbURL)\n",
    "db = client.get_database()"
   ]
  },
  {
   "cell_type": "markdown",
   "metadata": {},
   "source": [
    "### 1. All the companies whose name match 'Babelgum'. Retrieve only their `name` field."
   ]
  },
  {
   "cell_type": "code",
   "execution_count": 13,
   "metadata": {},
   "outputs": [
    {
     "name": "stdout",
     "output_type": "stream",
     "text": [
      "Babelgum\n"
     ]
    }
   ],
   "source": [
    "cursor = db.companies.find({'name':'Babelgum'}, {\"name\":1})\n",
    "for e in cursor:\n",
    "    print(e['name'])"
   ]
  },
  {
   "cell_type": "markdown",
   "metadata": {},
   "source": [
    "### 2. All the companies that have more than 5000 employees. Limit the search to 20 companies and sort them by **number of employees**."
   ]
  },
  {
   "cell_type": "code",
   "execution_count": 26,
   "metadata": {},
   "outputs": [
    {
     "name": "stdout",
     "output_type": "stream",
     "text": [
      "Siemens 405000\n",
      "IBM 388000\n",
      "Toyota 320000\n",
      "PayPal 300000\n",
      "Nippon Telegraph and Telephone Corporation 227000\n",
      "Samsung Electronics 221726\n",
      "Accenture 205000\n",
      "Tata Consultancy Services 200300\n",
      "Flextronics International 200000\n",
      "Safeway 186000\n",
      "Sony 180500\n",
      "LG 177000\n",
      "Ford 171000\n",
      "Boeing 160000\n",
      "Digital Equipment Corporation 140000\n",
      "Nokia 125000\n",
      "MItsubishi Electric 107000\n",
      "MItsubishi Electric 107000\n",
      "Comcast 100000\n",
      "Bertelsmann 100000\n"
     ]
    }
   ],
   "source": [
    "cursor = db.companies.find({'number_of_employees':{'$gt':5000}}).sort([('number_of_employees', DESCENDING)]).limit(20)\n",
    "for e in cursor:\n",
    "    print(e['name'], e['number_of_employees'])"
   ]
  },
  {
   "cell_type": "markdown",
   "metadata": {},
   "source": [
    "### 3. All the companies founded between 2000 and 2005, both years included. Retrieve only the `name` and `founded_year` fields."
   ]
  },
  {
   "cell_type": "code",
   "execution_count": 30,
   "metadata": {},
   "outputs": [
    {
     "name": "stdout",
     "output_type": "stream",
     "text": [
      "Zoho 2005\n",
      "Wetpaint 2005\n",
      "Omnidrive 2005\n",
      "Digg 2004\n",
      "Gizmoz 2003\n",
      "StumbleUpon 2002\n",
      "Facebook 2004\n",
      "Helio 2005\n",
      "Plaxo 2002\n",
      "Technorati 2002\n"
     ]
    }
   ],
   "source": [
    "#Limited to 10 for brevity\n",
    "years = list(range(2000, 2006))\n",
    "cursor = db.companies.find({'founded_year':{'$in':years}}, {'name': 1, 'founded_year': 1}).limit(10)\n",
    "for e in cursor:\n",
    "    print(e['name'], e['founded_year'])"
   ]
  },
  {
   "cell_type": "markdown",
   "metadata": {},
   "source": [
    "### 4. All the companies that had a Valuation Amount of more than 100.000.000 and have been founded before 2010. Retrieve only the `name` and `ipo` fields."
   ]
  },
  {
   "cell_type": "code",
   "execution_count": 41,
   "metadata": {},
   "outputs": [
    {
     "name": "stdout",
     "output_type": "stream",
     "text": [
      "Facebook {'valuation_amount': 104000000000, 'valuation_currency_code': 'USD', 'pub_year': 2012, 'pub_month': 5, 'pub_day': 18, 'stock_symbol': 'NASDAQ:FB'}\n",
      "Twitter {'valuation_amount': 18100000000, 'valuation_currency_code': 'USD', 'pub_year': 2013, 'pub_month': 11, 'pub_day': 7, 'stock_symbol': 'NYSE:TWTR'}\n",
      "Yelp {'valuation_amount': 1300000000, 'valuation_currency_code': 'USD', 'pub_year': 2012, 'pub_month': 3, 'pub_day': 2, 'stock_symbol': 'NYSE:YELP'}\n"
     ]
    }
   ],
   "source": [
    "cursor = db.companies.find({'$and':[{'ipo.valuation_amount':{'$gt': 100000000}},\n",
    "                                    {'founded_year':{'$lt':2010}}]}, \n",
    "                           {'name':1,'ipo':1})\n",
    "for i,e in enumerate(cursor):\n",
    "    if i == 3: break\n",
    "    print(e['name'], e['ipo'])"
   ]
  },
  {
   "cell_type": "markdown",
   "metadata": {},
   "source": [
    "### 5. All the companies that have less than 1000 employees and have been founded before 2005. Order them by the number of employees and limit the search to 10 companies."
   ]
  },
  {
   "cell_type": "code",
   "execution_count": 45,
   "metadata": {},
   "outputs": [
    {
     "name": "stdout",
     "output_type": "stream",
     "text": [
      "Infinera Corporation 974 2000\n",
      "NorthPoint Communications Group 948 1997\n",
      "888 Holdings 931 1997\n",
      "Forrester Research 903 1983\n",
      "SonicWALL 900 1991\n"
     ]
    }
   ],
   "source": [
    "cursor = db.companies.find({'$and':[{'number_of_employees':{'$lt':1000}}, {'founded_year':{'$lt':2005}}]}).sort([('number_of_employees', DESCENDING)]).limit(10)\n",
    "\n",
    "for i,e in enumerate(cursor):\n",
    "    if i == 5: break\n",
    "    print(e['name'], e['number_of_employees'], e['founded_year'])"
   ]
  },
  {
   "cell_type": "markdown",
   "metadata": {},
   "source": [
    "### 6. All the companies that don't include the `partners` field."
   ]
  },
  {
   "cell_type": "code",
   "execution_count": 55,
   "metadata": {},
   "outputs": [
    {
     "name": "stdout",
     "output_type": "stream",
     "text": [
      "AdventNet\n",
      "Zoho\n",
      "Wetpaint\n",
      "Omnidrive\n",
      "Postini\n"
     ]
    }
   ],
   "source": [
    "cursor = db.companies.find({'partners':{'$exists':'false'}})\n",
    "\n",
    "for i,e in enumerate(cursor):\n",
    "    if i == 5: break\n",
    "    print(e['name'])"
   ]
  },
  {
   "cell_type": "markdown",
   "metadata": {},
   "source": [
    "### 7. All the companies that have a null type of value on the `category_code` field."
   ]
  },
  {
   "cell_type": "code",
   "execution_count": 58,
   "metadata": {},
   "outputs": [
    {
     "name": "stdout",
     "output_type": "stream",
     "text": [
      "Collective\n",
      "Snimmer\n",
      "KoolIM\n",
      "Level9 Media\n",
      "VidKing\n"
     ]
    }
   ],
   "source": [
    "cursor = db.companies.find({'category_code': None})\n",
    "\n",
    "for i,e in enumerate(cursor):\n",
    "    if i == 5: break\n",
    "    print(e['name'])"
   ]
  },
  {
   "cell_type": "markdown",
   "metadata": {},
   "source": [
    "### 8. All the companies that have at least 100 employees but less than 1000. Retrieve only the `name` and `number of employees` fields."
   ]
  },
  {
   "cell_type": "code",
   "execution_count": 63,
   "metadata": {},
   "outputs": [
    {
     "name": "stdout",
     "output_type": "stream",
     "text": [
      "AdventNet 600\n",
      "AddThis 120\n",
      "OpenX 305\n",
      "LifeLock 644\n",
      "Jajah 110\n"
     ]
    }
   ],
   "source": [
    "cursor = db.companies.find({'$and':[{'number_of_employees':{'$gt':100}},{'number_of_employees':{'$lt':1000}}]},\n",
    "                          {'name':1, 'number_of_employees':1})\n",
    "\n",
    "for i,e in enumerate(cursor):\n",
    "    if i == 5: break\n",
    "    print(e['name'], e['number_of_employees'])"
   ]
  },
  {
   "cell_type": "markdown",
   "metadata": {},
   "source": [
    "### 9. Order all the companies by their IPO price in a descending order."
   ]
  },
  {
   "cell_type": "code",
   "execution_count": 71,
   "metadata": {},
   "outputs": [
    {
     "name": "stdout",
     "output_type": "stream",
     "text": [
      "GREE 108960000000\n",
      "Facebook 104000000000\n",
      "Amazon 100000000000\n",
      "Twitter 18100000000\n",
      "Groupon 12800000000\n"
     ]
    }
   ],
   "source": [
    "#Asumo que el IPO price es el IPO valuation_amount\n",
    "cursor = db.companies.find({'ipo.valuation_amount':{'$exists':'true'}}).sort([('ipo.valuation_amount', DESCENDING)])\n",
    "\n",
    "for i,e in enumerate(cursor):\n",
    "    if i == 5: break\n",
    "    print(e['name'], e['ipo']['valuation_amount'])"
   ]
  },
  {
   "cell_type": "markdown",
   "metadata": {},
   "source": [
    "### 10. Retrieve the 10 companies with more employees, order by the `number of employees`"
   ]
  },
  {
   "cell_type": "code",
   "execution_count": 72,
   "metadata": {},
   "outputs": [
    {
     "name": "stdout",
     "output_type": "stream",
     "text": [
      "Siemens 405000\n",
      "IBM 388000\n",
      "Toyota 320000\n",
      "PayPal 300000\n",
      "Nippon Telegraph and Telephone Corporation 227000\n"
     ]
    }
   ],
   "source": [
    "cursor = db.companies.find().sort([('number_of_employees', DESCENDING)]).limit(10)\n",
    "\n",
    "for i,e in enumerate(cursor):\n",
    "    if i == 5: break\n",
    "    print(e['name'], e['number_of_employees'])"
   ]
  },
  {
   "cell_type": "markdown",
   "metadata": {},
   "source": [
    "### 11. All the companies founded on the second semester of the year. Limit your search to 1000 companies."
   ]
  },
  {
   "cell_type": "code",
   "execution_count": 73,
   "metadata": {},
   "outputs": [
    {
     "name": "stdout",
     "output_type": "stream",
     "text": [
      "Zoho 9\n",
      "Wetpaint 10\n",
      "Omnidrive 11\n",
      "Postini 6\n",
      "Geni 6\n"
     ]
    }
   ],
   "source": [
    "cursor = db.companies.find({'founded_month':{'$gt':5}}).limit(1000)\n",
    "\n",
    "for i,e in enumerate(cursor):\n",
    "    if i == 5: break\n",
    "    print(e['name'], e['founded_month'])"
   ]
  },
  {
   "cell_type": "markdown",
   "metadata": {},
   "source": [
    "### 12. All the companies founded before 2000 that have an acquisition amount of more than 10.000.00"
   ]
  },
  {
   "cell_type": "code",
   "execution_count": 76,
   "metadata": {},
   "outputs": [
    {
     "name": "stdout",
     "output_type": "stream",
     "text": [
      "Postini 625000000 1999\n",
      "SideStep 180000000 1999\n",
      "Recipezaar 25000000 1999\n",
      "PayPal 1500000000 1998\n",
      "Snapfish 300000000 1999\n"
     ]
    }
   ],
   "source": [
    "cursor = db.companies.find({'$and':[{'acquisition.price_amount':{'$gt':10000000}},{'founded_year':{'$lt': 2000}}]})\n",
    "\n",
    "for i,e in enumerate(cursor):\n",
    "    if i == 5: break\n",
    "    print(e['name'], e['acquisition']['price_amount'], e['founded_year'])"
   ]
  },
  {
   "cell_type": "markdown",
   "metadata": {},
   "source": [
    "### 13. All the companies that have been acquired after 2010, order by the acquisition amount, and retrieve only their `name` and `acquisition` field."
   ]
  },
  {
   "cell_type": "code",
   "execution_count": 95,
   "metadata": {},
   "outputs": [
    {
     "name": "stdout",
     "output_type": "stream",
     "text": [
      "T-Mobile {'price_amount': 39000000000, 'price_currency_code': 'USD', 'term_code': None, 'source_url': 'http://techcrunch.com/2011/03/20/in-the-race-for-more-spectrum-att-is-acquiring-t-mobile-for-39-billion/', 'source_description': 'In The Race For More Spectrum, AT&T Is Acquiring T-Mobile For $39 Billion', 'acquired_year': 2011, 'acquired_month': 3, 'acquired_day': 20, 'acquiring_company': {'name': 'AT&T', 'permalink': 'at-t'}}\n",
      "Goodrich Corporation {'price_amount': 18400000000, 'price_currency_code': 'USD', 'term_code': None, 'source_url': 'http://www.masshightech.com/stories/2011/09/19/daily37-UTC-shells-out-184-billion-for-Goodrich.html', 'source_description': 'UTC shells out $18.4 billion for Goodrich', 'acquired_year': 2011, 'acquired_month': 9, 'acquired_day': 22, 'acquiring_company': {'name': 'United Technologies', 'permalink': 'united-technologies'}}\n"
     ]
    }
   ],
   "source": [
    "cursor = db.companies.find({'acquisition.acquired_year':{'$gt':2010}},\n",
    "                          {'name':1, 'acquisition':1}).sort([('acquisition.price_amount', DESCENDING)])\n",
    "\n",
    "for i,e in enumerate(cursor):\n",
    "    if i == 2: break\n",
    "    print(e['name'],e['acquisition'])"
   ]
  },
  {
   "cell_type": "markdown",
   "metadata": {},
   "source": [
    "### 14. Order the companies by their `founded year`, retrieving only their `name` and `founded year`."
   ]
  },
  {
   "cell_type": "code",
   "execution_count": 100,
   "metadata": {},
   "outputs": [
    {
     "name": "stdout",
     "output_type": "stream",
     "text": [
      "Fixya 2013\n",
      "Wamba 2013\n",
      "Advaliant 2013\n",
      "Fluc 2013\n",
      "iBazar 2013\n"
     ]
    }
   ],
   "source": [
    "#Tengo que limitar la busqueda porque no me da la RAM del ordenador :P\n",
    "cursor = db.companies.find({},{'name':1,'founded_year':1}).sort([('founded_year', DESCENDING)]).limit(50)\n",
    "\n",
    "for i,e in enumerate(cursor):\n",
    "    if i == 5: break\n",
    "    print(e['name'],e['founded_year'])"
   ]
  },
  {
   "cell_type": "markdown",
   "metadata": {},
   "source": [
    "### 15. All the companies that have been founded on the first seven days of the month, including the seventh. Sort them by their `acquisition price` in a descending order. Limit the search to 10 documents."
   ]
  },
  {
   "cell_type": "code",
   "execution_count": 101,
   "metadata": {},
   "outputs": [
    {
     "name": "stdout",
     "output_type": "stream",
     "text": [
      "Netscape 4\n",
      "PayPal 1\n",
      "Zappos 1\n",
      "Alibaba 1\n",
      "Postini 2\n"
     ]
    }
   ],
   "source": [
    "cursor = db.companies.find({'founded_day':{'$lte':7}}).sort([('acquisition.price_amount', DESCENDING)]).limit(10)\n",
    "\n",
    "for i,e in enumerate(cursor):\n",
    "    if i == 5: break\n",
    "    print(e['name'], e['founded_day'])"
   ]
  },
  {
   "cell_type": "markdown",
   "metadata": {},
   "source": [
    "### 16. All the companies on the 'web' `category` that have more than 4000 employees. Sort them by the amount of employees in ascending order."
   ]
  },
  {
   "cell_type": "code",
   "execution_count": 104,
   "metadata": {},
   "outputs": [
    {
     "name": "stdout",
     "output_type": "stream",
     "text": [
      "Expedia web 4400\n",
      "AOL web 8000\n",
      "Webkinz web 8657\n",
      "Rakuten web 10000\n",
      "Los Angeles Times Media Group web 10000\n"
     ]
    }
   ],
   "source": [
    "cursor = db.companies.find({'$and':[{'category_code':{'$eq':'web'}},{'number_of_employees':{'$gt':4000}}]}).sort([('number_of_employees', ASCENDING)])\n",
    "\n",
    "for i,e in enumerate(cursor):\n",
    "    if i == 5: break\n",
    "    print(e['name'], e['category_code'], e['number_of_employees'])"
   ]
  },
  {
   "cell_type": "markdown",
   "metadata": {},
   "source": [
    "### 17. All the companies whose acquisition amount is more than 10.000.000, and currency is 'EUR'."
   ]
  },
  {
   "cell_type": "code",
   "execution_count": 124,
   "metadata": {},
   "outputs": [
    {
     "name": "stdout",
     "output_type": "stream",
     "text": [
      "ZYB 31500000 EUR\n",
      "Apertio 140000000 EUR\n",
      "Greenfield Online 40000000 EUR\n",
      "Webedia 70000000 EUR\n",
      "Wayfinder 24000000 EUR\n"
     ]
    }
   ],
   "source": [
    "#Aquí lo intenté con $elemMatch, pero me devolvía un cursor vacío, no se por qué...\n",
    "#cursor = db.companies.find({'acquisition':{'$elemMatch':{'price_amount':{'$gt':10000000}, 'price_currency_code':'EUR'}}})\n",
    "cursor = db.companies.find({'$and':[{'acquisition.price_amount':{'$gt':10000000}}, {'acquisition.price_currency_code':{'$eq':'EUR'}}]})\n",
    "\n",
    "\n",
    "for i,e in enumerate(cursor):\n",
    "    if i == 5: break\n",
    "    print(e['name'], e['acquisition']['price_amount'], e['acquisition']['price_currency_code'])\n"
   ]
  },
  {
   "cell_type": "markdown",
   "metadata": {},
   "source": [
    "### 18. All the companies that have been acquired on the first trimester of the year. Limit the search to 10 companies, and retrieve only their `name` and `acquisition` fields."
   ]
  },
  {
   "cell_type": "code",
   "execution_count": 110,
   "metadata": {},
   "outputs": [
    {
     "name": "stdout",
     "output_type": "stream",
     "text": [
      "Gizmoz {'price_amount': None, 'price_currency_code': 'USD', 'term_code': None, 'source_url': 'http://www.gizmoz.com', 'source_description': 'TechCrunch', 'acquired_year': 2009, 'acquired_month': 12, 'acquired_day': 15, 'acquiring_company': {'name': 'Daz 3d', 'permalink': 'daz-3d'}}\n",
      "StumbleUpon {'price_amount': 29000000, 'price_currency_code': 'USD', 'term_code': None, 'source_url': 'http://techcrunch.com/2009/04/13/ebay-unacquires-stumbleupon/', 'source_description': \"StumbleUpon Beats Skype In Escaping EBay's Clutches\", 'acquired_year': 2009, 'acquired_month': 4, 'acquired_day': None, 'acquiring_company': {'name': 'StumbleUpon', 'permalink': 'stumbleupon'}}\n"
     ]
    }
   ],
   "source": [
    "cursor = db.companies.find({'founded_month':{'$lt':4}}, {'name':1, 'acquisition':1})\n",
    "\n",
    "for i,e in enumerate(cursor):\n",
    "    if i == 2: break\n",
    "    print(e['name'], e['acquisition'])"
   ]
  },
  {
   "cell_type": "markdown",
   "metadata": {},
   "source": [
    "# Bonus\n",
    "### 19. All the companies that have been founded between 2000 and 2010, but have not been acquired before 2011."
   ]
  },
  {
   "cell_type": "code",
   "execution_count": 112,
   "metadata": {},
   "outputs": [
    {
     "name": "stdout",
     "output_type": "stream",
     "text": [
      "Wetpaint 2005 2013\n",
      "Geni 2006 2012\n",
      "Digg 2004 2012\n",
      "blogTV 2006 2013\n",
      "Revision3 2005 2012\n"
     ]
    }
   ],
   "source": [
    "cursor = db.companies.find({'$and':[{'$and':[{'founded_year':{'$gte':2000}}, {'founded_year':{'$lte':2010}}]}, \n",
    "                                            {'acquisition.acquired_year':{'$gt':2011}}]})\n",
    "\n",
    "for i,e in enumerate(cursor):\n",
    "    if i == 5: break\n",
    "    print(e['name'], e['founded_year'], e['acquisition']['acquired_year'])"
   ]
  },
  {
   "cell_type": "markdown",
   "metadata": {},
   "source": [
    "### 20. All the companies that have been 'deadpooled' after the third year."
   ]
  },
  {
   "cell_type": "code",
   "execution_count": 143,
   "metadata": {},
   "outputs": [],
   "source": [
    "#cursor = db.companies.find({'$and':[{'deadpooled_year':{'$ne': None }}, \n",
    "#                                    {'deadpooled_year':{'$gt':'founded_year'}}]})\n",
    "#cursor = db.companies.find({'deadpooled_year':{'$ne': None }})\n",
    "cursor = db.companies.find({'deadpooled_year':{'$gt':'founded_year'}})\n",
    "{\"$where\":\"this.bounceCount > this.sentCount\"}\n",
    "\n",
    "for i,e in enumerate(cursor):\n",
    "    if i == 5: break\n",
    "    print(e['name'], e['deadpooled_year'])\n",
    "#len(list(cursor))"
   ]
  }
 ],
 "metadata": {
  "kernelspec": {
   "display_name": "Python 3",
   "language": "python",
   "name": "python3"
  },
  "language_info": {
   "codemirror_mode": {
    "name": "ipython",
    "version": 3
   },
   "file_extension": ".py",
   "mimetype": "text/x-python",
   "name": "python",
   "nbconvert_exporter": "python",
   "pygments_lexer": "ipython3",
   "version": "3.6.9"
  }
 },
 "nbformat": 4,
 "nbformat_minor": 2
}
